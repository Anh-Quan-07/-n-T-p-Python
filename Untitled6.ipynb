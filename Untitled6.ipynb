{
  "nbformat": 4,
  "nbformat_minor": 0,
  "metadata": {
    "colab": {
      "name": "Untitled6.ipynb",
      "provenance": [],
      "collapsed_sections": [],
      "authorship_tag": "ABX9TyO0cqeHMTlnlK1W9/BcHFgX",
      "include_colab_link": true
    },
    "kernelspec": {
      "name": "python3",
      "display_name": "Python 3"
    },
    "language_info": {
      "name": "python"
    }
  },
  "cells": [
    {
      "cell_type": "markdown",
      "metadata": {
        "id": "view-in-github",
        "colab_type": "text"
      },
      "source": [
        "<a href=\"https://colab.research.google.com/github/Anh-Quan-07/-n-T-p-Python/blob/main/Untitled6.ipynb\" target=\"_parent\"><img src=\"https://colab.research.google.com/assets/colab-badge.svg\" alt=\"Open In Colab\"/></a>"
      ]
    },
    {
      "cell_type": "markdown",
      "source": [
        "Bài 1 :Hãy trình bày cách đọc 1 tập dữ liệu vào bộ nhớ (ví dụ: Iris). Yêu cầu giải thích bằng lời và\n",
        "triển khai bằng code sau đó."
      ],
      "metadata": {
        "id": "i5b0yimnoyLG"
      }
    },
    {
      "cell_type": "code",
      "execution_count": null,
      "metadata": {
        "id": "vLMbUj7Ubqd6"
      },
      "outputs": [],
      "source": [
        "import matplotlib.pyplot as plt \n",
        "import numpy as np\n",
        "from scipy import stats \n",
        " from sklearn import datasets "
      ]
    },
    {
      "cell_type": "code",
      "source": [
        "iris = datasets.load_iris()\n",
        "iris_a = iris.data\n",
        "iris_b = iris.target"
      ],
      "metadata": {
        "id": "0fs5CHMUnIQv"
      },
      "execution_count": null,
      "outputs": []
    },
    {
      "cell_type": "code",
      "source": [
        "iris\n",
        "\n"
      ],
      "metadata": {
        "id": "gDupyCz8nIkO"
      },
      "execution_count": null,
      "outputs": []
    },
    {
      "cell_type": "code",
      "source": [
        "iris_a"
      ],
      "metadata": {
        "id": "7fK3WpchnIxA"
      },
      "execution_count": null,
      "outputs": []
    },
    {
      "cell_type": "code",
      "source": [
        "iris_b"
      ],
      "metadata": {
        "id": "253DWruHnJHf"
      },
      "execution_count": null,
      "outputs": []
    },
    {
      "cell_type": "markdown",
      "source": [
        "Bài 2 : Từ tập dữ liệu trong bộ nhớ nêu trên, hãy tiến hành mô tả bằng các thông số thống kê mô tả\n",
        "và hình vẽ tương ứng."
      ],
      "metadata": {
        "id": "xujs4qN3sIbF"
      }
    },
    {
      "cell_type": "code",
      "source": [
        "# Sử dụng hàm numpy.apply_along_axis để thực hiện tính toán trên từng hàng \n",
        "# Hàm tính trung bình của tập dữ liệu\n",
        "np.apply_along_axis(np.mean, 0, iris_a)"
      ],
      "metadata": {
        "id": "l_dUEDY-u9zm"
      },
      "execution_count": null,
      "outputs": []
    },
    {
      "cell_type": "code",
      "source": [
        "# Hàm tính giá trị trung vị của tập dữ liệu\n",
        "np.apply_along_axis(np.median, 0, iris_a) "
      ],
      "metadata": {
        "id": "RsoUtix5vgj-"
      },
      "execution_count": null,
      "outputs": []
    },
    {
      "cell_type": "code",
      "source": [
        "# Hàm vars() trả về thuộc tính __dict__ của đối tượng truyền vào ( tình Phương sai)\n",
        "np.apply_along_axis(np.var, 0, iris_a) "
      ],
      "metadata": {
        "id": "KWZFtIQjwiWw"
      },
      "execution_count": null,
      "outputs": []
    },
    {
      "cell_type": "code",
      "source": [
        "# Hàm tính độ lệch chuẩn \n",
        "np.apply_along_axis(np.std, 0, iris_a) "
      ],
      "metadata": {
        "id": "jQezlkAHxVEf"
      },
      "execution_count": null,
      "outputs": []
    },
    {
      "cell_type": "code",
      "source": [
        "# Hàm Trả về một mảng giá trị phương thức trong mảng đã truyền.\n",
        "np.apply_along_axis(stats.mode, 0, iris_a) "
      ],
      "metadata": {
        "id": "Vn3fpnQ4x6kD"
      },
      "execution_count": null,
      "outputs": []
    },
    {
      "cell_type": "code",
      "source": [
        "a_index = 0\n",
        "b_index = 1 "
      ],
      "metadata": {
        "id": "6G0csIuXyLpD"
      },
      "execution_count": null,
      "outputs": []
    },
    {
      "cell_type": "code",
      "source": [
        "plt.scatter(iris.data[:,a_index],iris.data[:, b_index],c = iris.target)\n",
        "plt.xlabel(iris.feature_names[a_index])\n",
        "plt.ylabel(iris.feature_names[b_index])\n",
        "plt.title('Vẽ đồ thị ')\n",
        "plt.xlabel('X')\n",
        "plt.ylabel('Y')\n",
        "plt.legend(loc='best')\n",
        "plt.show "
      ],
      "metadata": {
        "colab": {
          "base_uri": "https://localhost:8080/",
          "height": 332
        },
        "id": "DTntjzpVz-pp",
        "outputId": "d3c83bd7-0440-488a-d406-2b65f5dded98"
      },
      "execution_count": null,
      "outputs": [
        {
          "output_type": "stream",
          "name": "stderr",
          "text": [
            "No handles with labels found to put in legend.\n"
          ]
        },
        {
          "output_type": "execute_result",
          "data": {
            "text/plain": [
              "<function matplotlib.pyplot.show>"
            ]
          },
          "metadata": {},
          "execution_count": 31
        },
        {
          "output_type": "display_data",
          "data": {
            "text/plain": [
              "<Figure size 432x288 with 1 Axes>"
            ],
            "image/png": "[encoded data removed]"
          },
          "metadata": {
            "needs_background": "light"
          }
        }
      ]
    },
    {
      "cell_type": "markdown",
      "source": [
        "Bài 3: Từ tập dữ liệu trong bộ nhớ nêu trên, hãy:\n",
        "- Trình bày cách xác định dữ liệu và xác định nhãn lớp. Code tương ứng\n",
        "- Trình bày cách chia tập dữ liệu ban đầu thành tập dữ liệu huấn luyện và tập dữ liệu kiểm\n",
        "thử. Code tương ứng."
      ],
      "metadata": {
        "id": "gUA8lVQZ13eF"
      }
    },
    {
      "cell_type": "code",
      "source": [
        "iris.feature_names[0]"
      ],
      "metadata": {
        "colab": {
          "base_uri": "https://localhost:8080/",
          "height": 35
        },
        "id": "NZBwcTzs18Us",
        "outputId": "0d40fa94-9099-4212-8df9-7d5fc9756ed1"
      },
      "execution_count": null,
      "outputs": [
        {
          "output_type": "execute_result",
          "data": {
            "text/plain": [
              "'sepal length (cm)'"
            ],
            "application/vnd.google.colaboratory.intrinsic+json": {
              "type": "string"
            }
          },
          "metadata": {},
          "execution_count": 32
        }
      ]
    },
    {
      "cell_type": "code",
      "source": [
        "iris.feature_names[1]"
      ],
      "metadata": {
        "colab": {
          "base_uri": "https://localhost:8080/",
          "height": 35
        },
        "id": "fx1_7DtI3tts",
        "outputId": "1a8b3b40-87a9-43b8-b353-982702bb506a"
      },
      "execution_count": null,
      "outputs": [
        {
          "output_type": "execute_result",
          "data": {
            "text/plain": [
              "'sepal width (cm)'"
            ],
            "application/vnd.google.colaboratory.intrinsic+json": {
              "type": "string"
            }
          },
          "metadata": {},
          "execution_count": 33
        }
      ]
    },
    {
      "cell_type": "code",
      "source": [
        "iris.feature_names[2]"
      ],
      "metadata": {
        "colab": {
          "base_uri": "https://localhost:8080/",
          "height": 35
        },
        "id": "Uaue2PI13uM4",
        "outputId": "69cc3f31-c210-4392-b641-fb0a00c50579"
      },
      "execution_count": null,
      "outputs": [
        {
          "output_type": "execute_result",
          "data": {
            "text/plain": [
              "'petal length (cm)'"
            ],
            "application/vnd.google.colaboratory.intrinsic+json": {
              "type": "string"
            }
          },
          "metadata": {},
          "execution_count": 34
        }
      ]
    },
    {
      "cell_type": "code",
      "source": [
        "iris.feature_names[3]"
      ],
      "metadata": {
        "colab": {
          "base_uri": "https://localhost:8080/",
          "height": 35
        },
        "id": "XvzY3vE53vkf",
        "outputId": "43dd4e68-aa60-4266-fb0b-3588c286a295"
      },
      "execution_count": null,
      "outputs": [
        {
          "output_type": "execute_result",
          "data": {
            "text/plain": [
              "'petal width (cm)'"
            ],
            "application/vnd.google.colaboratory.intrinsic+json": {
              "type": "string"
            }
          },
          "metadata": {},
          "execution_count": 35
        }
      ]
    },
    {
      "cell_type": "code",
      "source": [
        "x0 = iris_a[iris_b == 0]\n",
        "print(\"cl 1:\",iris.target_names[0])\n",
        "print(len(x0))\n",
        "x0 \n"
      ],
      "metadata": {
        "id": "oQ7kpDdd3zPH"
      },
      "execution_count": null,
      "outputs": []
    },
    {
      "cell_type": "code",
      "source": [
        "x1 = iris_a[iris_b == 1]\n",
        "print(\"cl 2:\",iris.target_names[1])\n",
        "print(len(x1))\n",
        "x1 \n"
      ],
      "metadata": {
        "id": "lYmBzyDY5UpH"
      },
      "execution_count": null,
      "outputs": []
    },
    {
      "cell_type": "code",
      "source": [
        "x2 = iris_a[iris_b == 2]\n",
        "print(\"cl 3:\",iris.target_names[2])\n",
        "print(len(x2))"
      ],
      "metadata": {
        "colab": {
          "base_uri": "https://localhost:8080/"
        },
        "id": "ca44UDFD5VF7",
        "outputId": "7da34839-900d-40fc-b1e0-f7b46536e4fc"
      },
      "execution_count": null,
      "outputs": [
        {
          "output_type": "stream",
          "name": "stdout",
          "text": [
            "cl 1: virginica\n",
            "50\n"
          ]
        }
      ]
    },
    {
      "cell_type": "markdown",
      "source": [
        "Bài 4: Hãy trình bày lý thuyết về phương pháp 10-fold cross validation và code minh họa"
      ],
      "metadata": {
        "id": "mfPWHi9g7b7s"
      }
    },
    {
      "cell_type": "markdown",
      "source": [
        "Cross validation là một phương pháp thống kê được sử dụng để ước lượng hiệu quả của các mô hình học máy. Nó thường được sử dụng để so sánh và chọn ra mô hình tốt nhất cho một bài toán. Kỹ thuật này dễ hiểu, dễ thực hiện và cho ra các ước lượng tin cậy hơn so với các phương pháp khác. Trong bài viết này hãy cùng trituenhantao.io tìm hiểu về kỹ thuật cross validation với k-fold.\n",
        "\n",
        "Cross validation là một kỹ thuật lấy mẫu để đánh giá mô hình học máy trong trường hợp dữ liệu không được dồi dào cho lắm.\n",
        "\n",
        "Tham số quan trọng trong kỹ thuật này là k, đại diện cho số nhóm mà dữ liệu sẽ được chia ra. Vì lý do đó, nó được mang tên k-fold cross-validation. Khi giá trị của k được lựa chọn, người ta sử dụng trực tiếp giá trị đó trong tên của phương pháp đánh giá. Ví dụ với k=10, phương pháp sẽ mang tên 10-fold cross-validation.\n",
        "\n",
        "Kỹ thuật này thường bao gồm các bước như sau:\n",
        "\n",
        "Xáo trộn dataset một cách ngẫu nhiên\n",
        "Chia dataset thành k nhóm\n",
        "Với mỗi nhóm:\n",
        "Sử dụng nhóm hiện tại để đánh giá hiệu quả mô hình\n",
        "Các nhóm còn lại được sử dụng để huấn luyện mô hình\n",
        "Huấn luyện mô hình\n",
        "Đánh giá và sau đó hủy mô hình\n",
        "Tổng hợp hiệu quả của mô hình dựa từ các số liệu đánh giá"
      ],
      "metadata": {
        "id": "sskHlfJf7Atj"
      }
    },
    {
      "cell_type": "code",
      "source": [
        "# tập dữ liệu phân loại thử nghiệm\n",
        "from sklearn.datasets import make_classification\n",
        "# xác định tập dữ liệu\n",
        "X, y = make_classification(n_samples=100, n_features=20, n_informative=15, n_redundant=5, random_state=1)\n",
        "# tóm tắt tập dữ liệu\n",
        "print(X.shape, y.shape)"
      ],
      "metadata": {
        "id": "7RasKMyv7Q3K"
      },
      "execution_count": null,
      "outputs": []
    },
    {
      "cell_type": "code",
      "source": [
        "# đánh giá mô hình hồi quy logistic bằng cách sử dụng xác thực chéo 10-fold\n",
        "# các thư viện cần import \n",
        "from numpy import mean\n",
        "from numpy import std\n",
        "from sklearn.datasets import make_classification\n",
        "from sklearn.model_selection import KFold\n",
        "from sklearn.model_selection import cross_val_score\n",
        "from sklearn.linear_model import LogisticRegression\n"
      ],
      "metadata": {
        "id": "vm_r4s-a8TGq"
      },
      "execution_count": null,
      "outputs": []
    },
    {
      "cell_type": "code",
      "source": [
        "# tạo tập dữ liệu\n",
        "X, y = make_classification(n_samples=100, n_features=20, n_informative=15, n_redundant=5, random_state=1)\n",
        "# chuẩn bị quy trình xác thực chéo\n",
        "cv = KFold(n_splits=10, random_state=1, shuffle=True)\n",
        "# tạo mô hình\n",
        "model = LogisticRegression()\n",
        "# evaluate model\n",
        "scores = cross_val_score(model, X, y, scoring='accuracy', cv=cv, n_jobs=-1)\n",
        "# báo cáo hiệu suất\n",
        "print('Accuracy: %.3f (%.3f)' % (mean(scores), std(scores)))"
      ],
      "metadata": {
        "id": "c6UJK77I8V2I"
      },
      "execution_count": null,
      "outputs": []
    },
    {
      "cell_type": "markdown",
      "source": [
        "Bài 5: Hãy trình bày lý thuyết về các chủ điểm sau:"
      ],
      "metadata": {
        "id": "UkQGae-SBVJI"
      }
    },
    {
      "cell_type": "markdown",
      "source": [
        "-Bias: nghĩa là độ lệch, biểu thị sự chênh lệch giữa giá trị trung bình mà mô hình dự đoán và giá trị thực tế của dữ liệu.\n",
        "\n",
        "-Overfitting là hiện tượng khi mô hình xây dựng thể hiện được chi tiết bộ dữ liệu huấn luyện. Điều này có nghĩa là cả dữ liệu nhiễu, hoặc dữ liệu bất thường trong tập huấn luyện đều được chọn và học để đưa ra quy luật mô hình. Những quy luật này sẽ không có ý nghĩa nhiều khi áp dụng với bộ dữ liệu mới có thể có dạng dữ liệu nhiễu khác. Khi đó, nó ảnh hưởng tiêu cực tới độ chính xác của mô hình nói chung.\n",
        "Hiện tượng Overfitting thường xảy ra trong các mô hình phi tham số hoặc phi tuyến, những mô hình có sự linh hoạt cao trong xây dựng hàm mục tiêu\n",
        "\n",
        "-Các độ lệch root-mean-square ( RMSD ) hoặc root-mean-square lỗi ( RMSE ) là một biện pháp thường được sử dụng trong những khác biệt giữa các giá trị (mẫu hoặc các giá trị dân) được dự đoán bởi một mô hình hay một ước lượng và các giá trị quan sát được. RMSD đại diện cho căn bậc hai của thời điểm mẫu thứ hai về sự khác biệt giữa các giá trị dự đoán và giá trị quan sát hoặc giá trị trung bình bậc hai của những khác biệt này. Các độ lệch này được gọi là phần dư khi các phép tính được thực hiện trên mẫu dữ liệu được sử dụng để ước tính và được gọi là lỗi(hoặc lỗi dự đoán) khi tính toán ngoài mẫu. RMSD phục vụ để tổng hợp cường độ của các lỗi trong các dự đoán trong nhiều thời điểm khác nhau thành một thước đo duy nhất về sức mạnh dự đoán. RMSD là thước đo độ chính xác , để so sánh các lỗi dự báo của các mô hình khác nhau cho một tập dữ liệu cụ thể chứ không phải giữa các bộ dữ liệu, vì nó phụ thuộc vào quy mô.\n",
        "\n",
        "\n",
        "\n",
        "-Python theo định nghĩa của nó cho phép xử lý độ chính xác của số dấu phẩy động theo một số cách bằng cách sử dụng các hàm khác nhau. Hầu hết chúng được định nghĩa trong mô-đun \"toán học\". \n",
        "\n",
        "  Precision được định nghĩa là tỉ lệ số điểm Positive mô hình dự đoán đúng trên tổng số điểm mô hình dự đoán là Positive. \n",
        "\n",
        "  Functions for precision handling:\n",
        "  \n",
        "  trunc (): - Hàm này được sử dụng để loại bỏ tất cả các phần thập phân của số dấu phẩy động và trả về số nguyên không có phần thập phân.\n",
        "  \n",
        "  ceil (): - Hàm này dùng để in ra số nguyên nhỏ nhất lớn hơn số đã cho.\n",
        "  \n",
        "  floor (): - Hàm này dùng để in ra số nguyên lớn nhất nhỏ hơn số nguyên đã cho.\n",
        "Độ chính xác\n",
        "\n",
        "\n"
      ],
      "metadata": {
        "id": "4aIwnuDjBXlW"
      }
    }
  ]
}